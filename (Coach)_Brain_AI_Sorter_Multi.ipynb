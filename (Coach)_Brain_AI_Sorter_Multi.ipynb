{
 "cells": [
  {
   "cell_type": "markdown",
   "metadata": {},
   "source": [
    " ### 아래 내용은 글로벌 기업 (주)인텔에서 개발한 <br> Intel® AI for Youth Program 내용을 \n",
    "대한민국 Implementation Partner사인 (주)Brain AI와 Brain AI Lead Coach Network에서 우리나라 초, 중, 고 학생들의 AI 교육을 위해 현지화 한 내용입니다. <br>\n",
    "(주)Brain AI와 NDA를 체결한 학교에서만 사용 가능하며 NDA를 준수해야합니다. <br>\n",
    "상업적 사용은 불가하며, 학교내에서 학생들 교육활동에 자유롭게 사용가능합니다."
   ]
  },
  {
   "cell_type": "markdown",
   "metadata": {},
   "source": [
    "# 프로젝트 제목: Brain AI_Multisorter\n",
    "구글 티처블 머신에서 개발한 인공지능 모델을 불러와 마이크로비트와 마이크로비트 확장보드, 서보모터로 작동하는 인공지능 자동 분류기 개발하기"
   ]
  },
  {
   "cell_type": "code",
   "execution_count": 1,
   "metadata": {},
   "outputs": [],
   "source": [
    "# 필요 라이브러리 불러오기\n",
    "import numpy as np\n",
    "import cv2\n",
    "import time\n",
    "\n",
    "import serial\n",
    "import serial.tools.list_ports\n",
    "\n",
    "import tensorflow.keras\n",
    "from tensorflow.keras.models import model_from_json"
   ]
  },
  {
   "cell_type": "code",
   "execution_count": 2,
   "metadata": {},
   "outputs": [
    {
     "name": "stdout",
     "output_type": "stream",
     "text": [
      "Micro:bit detected:  COM12\n"
     ]
    }
   ],
   "source": [
    "# USB 시리얼 포트 자동 찾기\n",
    "ports = serial.tools.list_ports.comports()\n",
    "com = ''\n",
    "for port, desc, hwid in sorted(ports):        \n",
    "    if 'USB' in desc:\n",
    "        com = port\n",
    "if com != '':\n",
    "    print('Micro:bit detected: ', com)   \n",
    "else:\n",
    "    print('Please connect your microbit to this PC via USB')     "
   ]
  },
  {
   "cell_type": "code",
   "execution_count": 3,
   "metadata": {},
   "outputs": [
    {
     "name": "stdout",
     "output_type": "stream",
     "text": [
      "labels =  ['0 None', '1 Red', '2 Orange', '3 Yellow', '4 Green', '5 Blue', '6 Brown']\n"
     ]
    }
   ],
   "source": [
    "# 레이블 불러오기\n",
    "labels = []\n",
    "file = open(\"model/labels.txt\", \"r\")\n",
    "for x in file:\n",
    "    labels.append(x.rstrip('\\n'))\n",
    "print('labels = ', labels)\n",
    "file.close()"
   ]
  },
  {
   "cell_type": "code",
   "execution_count": 4,
   "metadata": {},
   "outputs": [],
   "source": [
    "#인공지능 모델 불러오기\n",
    "model = tensorflow.keras.models.load_model('model/keras_model.h5', compile = False)"
   ]
  },
  {
   "cell_type": "code",
   "execution_count": 5,
   "metadata": {},
   "outputs": [],
   "source": [
    "# 시리얼 통신으로 컴퓨터에 연결되어 있는 마이크로비트에 명령 보내기\n",
    "def SerialSendCommand(cmd):\n",
    "    cmd = str(cmd) \n",
    "    cmd  = cmd + '\\n'\n",
    "    cmd = str.encode(cmd) \n",
    "    ser.write(cmd)"
   ]
  },
  {
   "cell_type": "code",
   "execution_count": 6,
   "metadata": {},
   "outputs": [],
   "source": [
    "# 새로운 이미지 데이터 읽어와 분류 예측하기\n",
    "def ReadPicture(cropped, model):   \n",
    "    \n",
    "    input_width = 224\n",
    "    input_height = 224\n",
    "\n",
    "    resized_image = cv2.resize(cropped, (input_width, input_height))\n",
    "    imgRGB =cv2.cvtColor(resized_image, cv2.COLOR_BGR2RGB)\n",
    "    \n",
    "    normalized_image = (imgRGB.astype(np.float32) / 127.0) - 1\n",
    "    batch = normalized_image.reshape(1, input_height, input_width, 3)\n",
    "\n",
    "    prediction = model.predict(batch)\n",
    "    \n",
    "    class_id = np.argmax(prediction)\n",
    "    score = np.max(prediction) \n",
    "    \n",
    "    return class_id, score"
   ]
  },
  {
   "cell_type": "markdown",
   "metadata": {
    "tags": []
   },
   "source": [
    "### Teachable Machine Guide \n",
    "- Create the array of the right shape to feed into the keras model\n",
    "- The 'length' or number of images you can put into the array is\n",
    "- determined by the first position in the shape tuple, in this case 1.\n",
    "- data = np.ndarray(shape=(1, 224, 224, 3), dtype=np.float32)"
   ]
  },
  {
   "cell_type": "code",
   "execution_count": 7,
   "metadata": {},
   "outputs": [],
   "source": [
    "# 메인 함수\n",
    "def Main():\n",
    "        \n",
    "    MODE_PAUSE = -1 \n",
    "    MODE_START = 0\n",
    "    mode_status = MODE_PAUSE\n",
    " \n",
    "    tic = time.time()\n",
    "    text = \"Press 'p' to start\"\n",
    "    color  = (0, 0, 255)\n",
    "    cmd = 90\n",
    "    print(\"Press [q] to quit\") \n",
    "  \n",
    "    video_capture = cv2.VideoCapture(1)\n",
    "    height = video_capture.get(cv2.CAP_PROP_FRAME_HEIGHT )\n",
    "    width = video_capture.get(cv2.CAP_PROP_FRAME_WIDTH )\n",
    "\n",
    "    y1 = int(height - (height * top))\n",
    "    y2 = int(height - (height * bottom))\n",
    "    square = (y2-y1)/2\n",
    "    x1 = int(width/2 - square)\n",
    "    x2 = int(width/2 + square)\n",
    "    \n",
    "    while(True):\n",
    "\n",
    "        grabbed, frame = video_capture.read()\n",
    "        cropped = frame[y1:y2, x1:x2]\n",
    " \n",
    "        if mode_status == MODE_START:\n",
    "        \n",
    "            if time.time() - tic > 2.5:      \n",
    "                tic = time.time() \n",
    "                \n",
    "                class_id, score = ReadPicture(cropped, model)   \n",
    "                text = labels[class_id][1:] + ' ' + str(int(score*100)) + '%' \n",
    "                if score >= .6:\n",
    "                    cmd = labels[class_id][0]\n",
    "                    SerialSendCommand(cmd)\n",
    "                    \n",
    "        cv2.putText(frame, text, (50,50), cv2.FONT_HERSHEY_SIMPLEX, 1, color, 2)\n",
    "        cv2.rectangle(frame, (x1,y1), (x2,y2), color, 2)\n",
    "        \n",
    "        cv2.imshow(\"Frame\", frame) \n",
    "        \n",
    "        key = cv2.waitKey(1)\n",
    "        \n",
    "        if key == ord(\"q\"):\n",
    "            break\n",
    "\n",
    "        elif key == ord('p'):\n",
    "            if mode_status != MODE_PAUSE:\n",
    "                mode_status = MODE_PAUSE       \n",
    "                color = (0, 0, 255)\n",
    "                text = \"Press 'p' to start\"\n",
    "                SerialSendCommand(\"pause\")\n",
    "\n",
    "            elif mode_status == MODE_PAUSE:\n",
    "                mode_status = MODE_START\n",
    "                color = (0, 255, 0)\n",
    "                text = \"Press 'p' to pause\"\n",
    "                \n",
    "    ser.close()\n",
    "    video_capture.release()\n",
    "    cv2.destroyAllWindows()"
   ]
  },
  {
   "cell_type": "code",
   "execution_count": 9,
   "metadata": {},
   "outputs": [
    {
     "name": "stdout",
     "output_type": "stream",
     "text": [
      "Press [q] to quit\n"
     ]
    }
   ],
   "source": [
    "#설정 값 변경 및 프로그램 실행\n",
    "ser = serial.Serial(com, 9600, timeout=0,parity=serial.PARITY_NONE, rtscts=0)  \n",
    "top = .65\n",
    "bottom = .25\n",
    "\n",
    "if __name__ == '__main__': \n",
    "    Main()"
   ]
  }
 ],
 "metadata": {
  "kernelspec": {
   "display_name": "Python 3 (ipykernel)",
   "language": "python",
   "name": "python3"
  },
  "language_info": {
   "codemirror_mode": {
    "name": "ipython",
    "version": 3
   },
   "file_extension": ".py",
   "mimetype": "text/x-python",
   "name": "python",
   "nbconvert_exporter": "python",
   "pygments_lexer": "ipython3",
   "version": "3.8.12"
  }
 },
 "nbformat": 4,
 "nbformat_minor": 4
}
